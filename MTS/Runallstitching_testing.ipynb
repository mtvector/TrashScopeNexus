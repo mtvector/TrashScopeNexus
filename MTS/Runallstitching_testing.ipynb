{
 "cells": [
  {
   "cell_type": "code",
   "execution_count": 3,
   "metadata": {},
   "outputs": [],
   "source": [
    "import os\n",
    "import numpy as np\n",
    "#import subprocess\n",
    "import sys\n",
    "sys.path.insert(1, os.path.expanduser('~/code/macaque-dev-brain/imaging/'))\n",
    "import ImageStitching"
   ]
  },
  {
   "cell_type": "code",
   "execution_count": 2,
   "metadata": {},
   "outputs": [],
   "source": [
    "import ray\n",
    "ray.shutdown()\n",
    "ray.shutdown()\n",
    "ray.shutdown()"
   ]
  },
  {
   "cell_type": "code",
   "execution_count": null,
   "metadata": {},
   "outputs": [
    {
     "name": "stderr",
     "output_type": "stream",
     "text": [
      "2020-08-04 13:33:00,292\tINFO resource_spec.py:212 -- Starting Ray with 175.24 GiB memory available for workers and up to 79.1 GiB for objects. You can adjust these settings with ray.init(memory=<bytes>, object_store_memory=<bytes>).\n"
     ]
    },
    {
     "name": "stdout",
     "output_type": "stream",
     "text": [
      "/wynton/group/ye/mtschmitz/images/MacaqueMotorCortex/E94_3.49_20200706/scan.2020-07-10-17-36-13\n",
      "cpus: 8\n"
     ]
    },
    {
     "name": "stderr",
     "output_type": "stream",
     "text": [
      "2020-08-04 13:33:00,590\tWARNING services.py:923 -- Redis failed to start, retrying now.\n",
      "2020-08-04 13:33:02,789\tINFO services.py:1165 -- View the Ray dashboard at \u001b[1m\u001b[32mlocalhost:8265\u001b[39m\u001b[22m\n",
      "100%|██████████| 1256/1256 [00:00<00:00, 5107.65it/s]\n"
     ]
    },
    {
     "name": "stdout",
     "output_type": "stream",
     "text": [
      "                                             FileName            DirName  \\\n",
      "0      HOECHST_scan_Bottom Slide_R_p00_0_A01f00d1.TIF  E94_3.49_20200706   \n",
      "1      HOECHST_scan_Bottom Slide_R_p00_0_A01f01d1.TIF  E94_3.49_20200706   \n",
      "2      HOECHST_scan_Bottom Slide_R_p00_0_A01f02d1.TIF  E94_3.49_20200706   \n",
      "3      HOECHST_scan_Bottom Slide_R_p00_0_A01f03d1.TIF  E94_3.49_20200706   \n",
      "4      HOECHST_scan_Bottom Slide_R_p00_0_A01f04d1.TIF  E94_3.49_20200706   \n",
      "...                                               ...                ...   \n",
      "1251  HOECHST_scan_Bottom Slide_R_p00_0_A01f996d1.TIF  E94_3.49_20200706   \n",
      "1252  HOECHST_scan_Bottom Slide_R_p00_0_A01f997d1.TIF  E94_3.49_20200706   \n",
      "1253  HOECHST_scan_Bottom Slide_R_p00_0_A01f998d1.TIF  E94_3.49_20200706   \n",
      "1254  HOECHST_scan_Bottom Slide_R_p00_0_A01f999d1.TIF  E94_3.49_20200706   \n",
      "1255   HOECHST_scan_Bottom Slide_R_p00_0_A01f99d1.TIF  E94_3.49_20200706   \n",
      "\n",
      "                                                   Path SizeX SizeY  \\\n",
      "0     /wynton/group/ye/mtschmitz/images/MacaqueMotor...  2048  1536   \n",
      "1     /wynton/group/ye/mtschmitz/images/MacaqueMotor...  2048  1536   \n",
      "2     /wynton/group/ye/mtschmitz/images/MacaqueMotor...  2048  1536   \n",
      "3     /wynton/group/ye/mtschmitz/images/MacaqueMotor...  2048  1536   \n",
      "4     /wynton/group/ye/mtschmitz/images/MacaqueMotor...  2048  1536   \n",
      "...                                                 ...   ...   ...   \n",
      "1251  /wynton/group/ye/mtschmitz/images/MacaqueMotor...  2048  1536   \n",
      "1252  /wynton/group/ye/mtschmitz/images/MacaqueMotor...  2048  1536   \n",
      "1253  /wynton/group/ye/mtschmitz/images/MacaqueMotor...  2048  1536   \n",
      "1254  /wynton/group/ye/mtschmitz/images/MacaqueMotor...  2048  1536   \n",
      "1255  /wynton/group/ye/mtschmitz/images/MacaqueMotor...  2048  1536   \n",
      "\n",
      "                PositionX            PositionY Run Index Index \"field\" Index  \\\n",
      "0      -16454.83518171831  -2876.4544597438708         1     0             0   \n",
      "1      -16454.83518171831    -2424.10245974387         1     0             1   \n",
      "2      -16454.83518171831  -1971.9984597438706         1     0             2   \n",
      "3      -16454.83518171831  -1519.8944597438713         1     0             3   \n",
      "4      -16454.83518171831  -1067.7904597438719         1     0             4   \n",
      "...                   ...                  ...       ...   ...           ...   \n",
      "1251  -500.00318171831168   270.16954025613086         1     0           996   \n",
      "1252  -500.00318171831168   722.52154025612981         1     0           997   \n",
      "1253  -500.00318171831168   1174.6255402561292         1     0           998   \n",
      "1254  -500.00318171831168   1626.7295402561285         1     0           999   \n",
      "1255   -17065.90718171831     2097.43354025613         1     0            99   \n",
      "\n",
      "     AreaGrid AreaGridIndex  Name <Image ID=\"Image:\" Name      ActualPositionZ  \n",
      "0                         0  Scan                    DAPI  -318.10733886214359  \n",
      "1                         0  Scan                    DAPI  -318.10733886214359  \n",
      "2                         0  Scan                    DAPI  -318.10733886214359  \n",
      "3                         0  Scan                    DAPI  -318.10733886214359  \n",
      "4                         0  Scan                    DAPI  -318.10733886214359  \n",
      "...                     ...   ...                     ...                  ...  \n",
      "1251                      0  Scan                    DAPI  -310.94733886214362  \n",
      "1252                      0  Scan                    DAPI  -310.94733886214362  \n",
      "1253                      0  Scan                    DAPI  -310.94733886214362  \n",
      "1254                      0  Scan                    DAPI  -310.94733886214362  \n",
      "1255                      0  Scan                    DAPI  -318.10733886214359  \n",
      "\n",
      "[1256 rows x 14 columns]\n"
     ]
    },
    {
     "name": "stderr",
     "output_type": "stream",
     "text": [
      "/wynton/home/ye/mschmitz1/code/macaque-dev-brain/imaging/ImageStitching.py:285: VisibleDeprecationWarning: Creating an ndarray from ragged nested sequences (which is a list-or-tuple of lists-or-tuples-or ndarrays with different lengths or shapes) is deprecated. If you meant to do this, you must specify 'dtype=object' when creating the ndarray\n",
      "  return(np.array([A[i : i + size] for i in range(0, len(A), step)]))\n"
     ]
    },
    {
     "name": "stdout",
     "output_type": "stream",
     "text": [
      "/wynton/home/ye/mschmitz1/utils/Fiji.app/ImageJ-linux64 /wynton/home/ye/mschmitz1/code/macaque-dev-brain/imaging/Stitching.js /wynton/group/ye/mtschmitz/images/MacaqueMotorCortex/E94_3.49_20200706/scan.2020-07-10-17-36-13/1_DAPI.stitchy\n"
     ]
    },
    {
     "name": "stderr",
     "output_type": "stream",
     "text": [
      "2020-08-04 13:34:25,566\tINFO resource_spec.py:212 -- Starting Ray with 176.56 GiB memory available for workers and up to 79.67 GiB for objects. You can adjust these settings with ray.init(memory=<bytes>, object_store_memory=<bytes>).\n"
     ]
    },
    {
     "name": "stdout",
     "output_type": "stream",
     "text": [
      "/wynton/group/ye/mtschmitz/images/MacaqueMotorCortex/E94_3.49_20200706/scan.2020-07-10-17-36-13/1_DAPI.stitchy.registered.txt\n",
      "                                                                                             0  \\\n",
      "0                                                                                                \n",
      "HOECHST_scan_Bottom Slide_R_p00_0_A01f04d1.TIF  HOECHST_scan_Bottom Slide_R_p00_0_A01f04d1.TIF   \n",
      "HOECHST_scan_Bottom Slide_R_p00_0_A01f05d1.TIF  HOECHST_scan_Bottom Slide_R_p00_0_A01f05d1.TIF   \n",
      "HOECHST_scan_Bottom Slide_R_p00_0_A01f13d1.TIF  HOECHST_scan_Bottom Slide_R_p00_0_A01f13d1.TIF   \n",
      "HOECHST_scan_Bottom Slide_R_p00_0_A01f12d1.TIF  HOECHST_scan_Bottom Slide_R_p00_0_A01f12d1.TIF   \n",
      "HOECHST_scan_Bottom Slide_R_p00_0_A01f38d1.TIF  HOECHST_scan_Bottom Slide_R_p00_0_A01f38d1.TIF   \n",
      "HOECHST_scan_Bottom Slide_R_p00_0_A01f37d1.TIF  HOECHST_scan_Bottom Slide_R_p00_0_A01f37d1.TIF   \n",
      "\n",
      "                                                1  \\\n",
      "0                                                   \n",
      "HOECHST_scan_Bottom Slide_R_p00_0_A01f04d1.TIF      \n",
      "HOECHST_scan_Bottom Slide_R_p00_0_A01f05d1.TIF      \n",
      "HOECHST_scan_Bottom Slide_R_p00_0_A01f13d1.TIF      \n",
      "HOECHST_scan_Bottom Slide_R_p00_0_A01f12d1.TIF      \n",
      "HOECHST_scan_Bottom Slide_R_p00_0_A01f38d1.TIF      \n",
      "HOECHST_scan_Bottom Slide_R_p00_0_A01f37d1.TIF      \n",
      "\n",
      "                                                                                        2  \\\n",
      "0                                                                                           \n",
      "HOECHST_scan_Bottom Slide_R_p00_0_A01f04d1.TIF                                 (0.0, 0.0)   \n",
      "HOECHST_scan_Bottom Slide_R_p00_0_A01f05d1.TIF   (-2033.048095703125, -845.2457885742188)   \n",
      "HOECHST_scan_Bottom Slide_R_p00_0_A01f13d1.TIF    (2032.9764404296875, 1265.710693359375)   \n",
      "HOECHST_scan_Bottom Slide_R_p00_0_A01f12d1.TIF                                 (0.0, 0.0)   \n",
      "HOECHST_scan_Bottom Slide_R_p00_0_A01f38d1.TIF       (4065.89306640625, -87.421630859375)   \n",
      "HOECHST_scan_Bottom Slide_R_p00_0_A01f37d1.TIF   (2033.0367431640625, 1373.0943603515625)   \n",
      "\n",
      "                                                          PositionX  \\\n",
      "0                                                                     \n",
      "HOECHST_scan_Bottom Slide_R_p00_0_A01f04d1.TIF                  0.0   \n",
      "HOECHST_scan_Bottom Slide_R_p00_0_A01f05d1.TIF   -2033.048095703125   \n",
      "HOECHST_scan_Bottom Slide_R_p00_0_A01f13d1.TIF   2032.9764404296875   \n",
      "HOECHST_scan_Bottom Slide_R_p00_0_A01f12d1.TIF                  0.0   \n",
      "HOECHST_scan_Bottom Slide_R_p00_0_A01f38d1.TIF     4065.89306640625   \n",
      "HOECHST_scan_Bottom Slide_R_p00_0_A01f37d1.TIF   2033.0367431640625   \n",
      "\n",
      "                                                          PositionY  \n",
      "0                                                                    \n",
      "HOECHST_scan_Bottom Slide_R_p00_0_A01f04d1.TIF                  0.0  \n",
      "HOECHST_scan_Bottom Slide_R_p00_0_A01f05d1.TIF   -845.2457885742188  \n",
      "HOECHST_scan_Bottom Slide_R_p00_0_A01f13d1.TIF    1265.710693359375  \n",
      "HOECHST_scan_Bottom Slide_R_p00_0_A01f12d1.TIF                  0.0  \n",
      "HOECHST_scan_Bottom Slide_R_p00_0_A01f38d1.TIF     -87.421630859375  \n",
      "HOECHST_scan_Bottom Slide_R_p00_0_A01f37d1.TIF   1373.0943603515625  \n",
      "/wynton/group/ye/mtschmitz/images/MacaqueMotorCortex/E94_3.49_20200706/scan.2020-07-10-17-36-13\n",
      "cpus: 8\n"
     ]
    },
    {
     "name": "stderr",
     "output_type": "stream",
     "text": [
      "2020-08-04 13:34:25,831\tWARNING services.py:923 -- Redis failed to start, retrying now.\n",
      "2020-08-04 13:34:26,316\tINFO services.py:1165 -- View the Ray dashboard at \u001b[1m\u001b[32mlocalhost:8265\u001b[39m\u001b[22m\n",
      "100%|██████████| 1256/1256 [00:00<00:00, 5738.42it/s]\n"
     ]
    },
    {
     "name": "stdout",
     "output_type": "stream",
     "text": [
      "                                             FileName            DirName  \\\n",
      "0      HOECHST_scan_Bottom Slide_R_p00_0_A01f00d1.TIF  E94_3.49_20200706   \n",
      "1      HOECHST_scan_Bottom Slide_R_p00_0_A01f01d1.TIF  E94_3.49_20200706   \n",
      "2      HOECHST_scan_Bottom Slide_R_p00_0_A01f02d1.TIF  E94_3.49_20200706   \n",
      "3      HOECHST_scan_Bottom Slide_R_p00_0_A01f03d1.TIF  E94_3.49_20200706   \n",
      "4      HOECHST_scan_Bottom Slide_R_p00_0_A01f04d1.TIF  E94_3.49_20200706   \n",
      "...                                               ...                ...   \n",
      "1251  HOECHST_scan_Bottom Slide_R_p00_0_A01f996d1.TIF  E94_3.49_20200706   \n",
      "1252  HOECHST_scan_Bottom Slide_R_p00_0_A01f997d1.TIF  E94_3.49_20200706   \n",
      "1253  HOECHST_scan_Bottom Slide_R_p00_0_A01f998d1.TIF  E94_3.49_20200706   \n",
      "1254  HOECHST_scan_Bottom Slide_R_p00_0_A01f999d1.TIF  E94_3.49_20200706   \n",
      "1255   HOECHST_scan_Bottom Slide_R_p00_0_A01f99d1.TIF  E94_3.49_20200706   \n",
      "\n",
      "                                                   Path SizeX SizeY  \\\n",
      "0     /wynton/group/ye/mtschmitz/images/MacaqueMotor...  2048  1536   \n",
      "1     /wynton/group/ye/mtschmitz/images/MacaqueMotor...  2048  1536   \n",
      "2     /wynton/group/ye/mtschmitz/images/MacaqueMotor...  2048  1536   \n",
      "3     /wynton/group/ye/mtschmitz/images/MacaqueMotor...  2048  1536   \n",
      "4     /wynton/group/ye/mtschmitz/images/MacaqueMotor...  2048  1536   \n",
      "...                                                 ...   ...   ...   \n",
      "1251  /wynton/group/ye/mtschmitz/images/MacaqueMotor...  2048  1536   \n",
      "1252  /wynton/group/ye/mtschmitz/images/MacaqueMotor...  2048  1536   \n",
      "1253  /wynton/group/ye/mtschmitz/images/MacaqueMotor...  2048  1536   \n",
      "1254  /wynton/group/ye/mtschmitz/images/MacaqueMotor...  2048  1536   \n",
      "1255  /wynton/group/ye/mtschmitz/images/MacaqueMotor...  2048  1536   \n",
      "\n",
      "                PositionX            PositionY Run Index Index \"field\" Index  \\\n",
      "0      -16454.83518171831  -2876.4544597438708         1     0             0   \n",
      "1      -16454.83518171831    -2424.10245974387         1     0             1   \n",
      "2      -16454.83518171831  -1971.9984597438706         1     0             2   \n",
      "3      -16454.83518171831  -1519.8944597438713         1     0             3   \n",
      "4      -16454.83518171831  -1067.7904597438719         1     0             4   \n",
      "...                   ...                  ...       ...   ...           ...   \n",
      "1251  -500.00318171831168   270.16954025613086         1     0           996   \n",
      "1252  -500.00318171831168   722.52154025612981         1     0           997   \n",
      "1253  -500.00318171831168   1174.6255402561292         1     0           998   \n",
      "1254  -500.00318171831168   1626.7295402561285         1     0           999   \n",
      "1255   -17065.90718171831     2097.43354025613         1     0            99   \n",
      "\n",
      "     AreaGrid AreaGridIndex  Name <Image ID=\"Image:\" Name      ActualPositionZ  \n",
      "0                         0  Scan                    DAPI  -318.10733886214359  \n",
      "1                         0  Scan                    DAPI  -318.10733886214359  \n",
      "2                         0  Scan                    DAPI  -318.10733886214359  \n",
      "3                         0  Scan                    DAPI  -318.10733886214359  \n",
      "4                         0  Scan                    DAPI  -318.10733886214359  \n",
      "...                     ...   ...                     ...                  ...  \n",
      "1251                      0  Scan                    DAPI  -310.94733886214362  \n",
      "1252                      0  Scan                    DAPI  -310.94733886214362  \n",
      "1253                      0  Scan                    DAPI  -310.94733886214362  \n",
      "1254                      0  Scan                    DAPI  -310.94733886214362  \n",
      "1255                      0  Scan                    DAPI  -318.10733886214359  \n",
      "\n",
      "[1256 rows x 14 columns]\n"
     ]
    },
    {
     "name": "stderr",
     "output_type": "stream",
     "text": [
      "/wynton/home/ye/mschmitz1/code/macaque-dev-brain/imaging/ImageStitching.py:285: VisibleDeprecationWarning: Creating an ndarray from ragged nested sequences (which is a list-or-tuple of lists-or-tuples-or ndarrays with different lengths or shapes) is deprecated. If you meant to do this, you must specify 'dtype=object' when creating the ndarray\n",
      "  return(np.array([A[i : i + size] for i in range(0, len(A), step)]))\n"
     ]
    },
    {
     "name": "stdout",
     "output_type": "stream",
     "text": [
      "/wynton/home/ye/mschmitz1/utils/Fiji.app/ImageJ-linux64 /wynton/home/ye/mschmitz1/code/macaque-dev-brain/imaging/Stitching.js /wynton/group/ye/mtschmitz/images/MacaqueMotorCortex/E94_3.49_20200706/scan.2020-07-10-17-36-13/2_DAPI.stitchy\n"
     ]
    },
    {
     "name": "stderr",
     "output_type": "stream",
     "text": [
      "2020-08-04 13:35:41,920\tINFO resource_spec.py:212 -- Starting Ray with 177.0 GiB memory available for workers and up to 79.86 GiB for objects. You can adjust these settings with ray.init(memory=<bytes>, object_store_memory=<bytes>).\n"
     ]
    },
    {
     "name": "stdout",
     "output_type": "stream",
     "text": [
      "/wynton/group/ye/mtschmitz/images/MacaqueMotorCortex/E94_3.49_20200706/scan.2020-07-10-17-36-13/2_DAPI.stitchy.registered.txt\n",
      "                                                                                                 0  \\\n",
      "0                                                                                                    \n",
      "HOECHST_scan_Bottom Slide_R_p00_0_A01f1216d1.TIF  HOECHST_scan_Bottom Slide_R_p00_0_A01f1216d1.TIF   \n",
      "HOECHST_scan_Bottom Slide_R_p00_0_A01f1167d1.TIF  HOECHST_scan_Bottom Slide_R_p00_0_A01f1167d1.TIF   \n",
      "HOECHST_scan_Bottom Slide_R_p00_0_A01f1168d1.TIF  HOECHST_scan_Bottom Slide_R_p00_0_A01f1168d1.TIF   \n",
      "HOECHST_scan_Bottom Slide_R_p00_0_A01f1111d1.TIF  HOECHST_scan_Bottom Slide_R_p00_0_A01f1111d1.TIF   \n",
      "HOECHST_scan_Bottom Slide_R_p00_0_A01f1112d1.TIF  HOECHST_scan_Bottom Slide_R_p00_0_A01f1112d1.TIF   \n",
      "HOECHST_scan_Bottom Slide_R_p00_0_A01f1113d1.TIF  HOECHST_scan_Bottom Slide_R_p00_0_A01f1113d1.TIF   \n",
      "\n",
      "                                                  1  \\\n",
      "0                                                     \n",
      "HOECHST_scan_Bottom Slide_R_p00_0_A01f1216d1.TIF      \n",
      "HOECHST_scan_Bottom Slide_R_p00_0_A01f1167d1.TIF      \n",
      "HOECHST_scan_Bottom Slide_R_p00_0_A01f1168d1.TIF      \n",
      "HOECHST_scan_Bottom Slide_R_p00_0_A01f1111d1.TIF      \n",
      "HOECHST_scan_Bottom Slide_R_p00_0_A01f1112d1.TIF      \n",
      "HOECHST_scan_Bottom Slide_R_p00_0_A01f1113d1.TIF      \n",
      "\n",
      "                                                                                           2  \\\n",
      "0                                                                                              \n",
      "HOECHST_scan_Bottom Slide_R_p00_0_A01f1216d1.TIF                                  (0.0, 0.0)   \n",
      "HOECHST_scan_Bottom Slide_R_p00_0_A01f1167d1.TIF                                  (0.0, 0.0)   \n",
      "HOECHST_scan_Bottom Slide_R_p00_0_A01f1168d1.TIF   (2033.1175537109375, -30.078603744506836)   \n",
      "HOECHST_scan_Bottom Slide_R_p00_0_A01f1111d1.TIF                                  (0.0, 0.0)   \n",
      "HOECHST_scan_Bottom Slide_R_p00_0_A01f1112d1.TIF     (2032.962158203125, -34.05375289916992)   \n",
      "HOECHST_scan_Bottom Slide_R_p00_0_A01f1113d1.TIF   (4066.0264892578125, -1401.7339992523193)   \n",
      "\n",
      "                                                            PositionX  \\\n",
      "0                                                                       \n",
      "HOECHST_scan_Bottom Slide_R_p00_0_A01f1216d1.TIF                  0.0   \n",
      "HOECHST_scan_Bottom Slide_R_p00_0_A01f1167d1.TIF                  0.0   \n",
      "HOECHST_scan_Bottom Slide_R_p00_0_A01f1168d1.TIF   2033.1175537109375   \n",
      "HOECHST_scan_Bottom Slide_R_p00_0_A01f1111d1.TIF                  0.0   \n",
      "HOECHST_scan_Bottom Slide_R_p00_0_A01f1112d1.TIF    2032.962158203125   \n",
      "HOECHST_scan_Bottom Slide_R_p00_0_A01f1113d1.TIF   4066.0264892578125   \n",
      "\n",
      "                                                             PositionY  \n",
      "0                                                                       \n",
      "HOECHST_scan_Bottom Slide_R_p00_0_A01f1216d1.TIF                   0.0  \n",
      "HOECHST_scan_Bottom Slide_R_p00_0_A01f1167d1.TIF                   0.0  \n",
      "HOECHST_scan_Bottom Slide_R_p00_0_A01f1168d1.TIF   -30.078603744506836  \n",
      "HOECHST_scan_Bottom Slide_R_p00_0_A01f1111d1.TIF                   0.0  \n",
      "HOECHST_scan_Bottom Slide_R_p00_0_A01f1112d1.TIF    -34.05375289916992  \n",
      "HOECHST_scan_Bottom Slide_R_p00_0_A01f1113d1.TIF   -1401.7339992523193  \n",
      "/wynton/group/ye/mtschmitz/images/MacaqueMotorCortex/E94_3.49_20200706/scan.2020-07-10-17-36-13\n",
      "cpus: 8\n"
     ]
    },
    {
     "name": "stderr",
     "output_type": "stream",
     "text": [
      "2020-08-04 13:35:42,192\tWARNING services.py:923 -- Redis failed to start, retrying now.\n",
      "2020-08-04 13:35:42,492\tINFO services.py:1165 -- View the Ray dashboard at \u001b[1m\u001b[32mlocalhost:8265\u001b[39m\u001b[22m\n",
      "100%|██████████| 1256/1256 [00:00<00:00, 2044.57it/s]\n",
      "ERROR:root:Internal Python error in the inspect module.\n",
      "Below is the traceback from this internal error.\n",
      "\n",
      "ERROR:root:Internal Python error in the inspect module.\n",
      "Below is the traceback from this internal error.\n",
      "\n",
      "ERROR:root:Internal Python error in the inspect module.\n",
      "Below is the traceback from this internal error.\n",
      "\n"
     ]
    },
    {
     "name": "stdout",
     "output_type": "stream",
     "text": [
      "Traceback (most recent call last):\n",
      "  File \"/wynton/home/ye/mschmitz1/utils/miniconda3/envs/imagej/lib/python3.7/site-packages/IPython/core/interactiveshell.py\", line 3343, in run_code\n",
      "    exec(code_obj, self.user_global_ns, self.user_ns)\n",
      "  File \"<ipython-input-3-d3e65946da85>\", line 12, in <module>\n",
      "    df,IF=ImageStitching.ImageJStitchImages(dirname,dirname,'DAPI',str(i),.5,.55,.5,.55)\n",
      "  File \"/wynton/home/ye/mschmitz1/code/macaque-dev-brain/imaging/ImageStitching.py\", line 108, in ImageJStitchImages\n",
      "    metadf=pd.DataFrame(ray.get(l))\n",
      "  File \"/wynton/home/ye/mschmitz1/utils/miniconda3/envs/imagej/lib/python3.7/site-packages/ray/worker.py\", line 1467, in get\n",
      "    values = worker.get_objects(object_ids, timeout=timeout)\n",
      "  File \"/wynton/home/ye/mschmitz1/utils/miniconda3/envs/imagej/lib/python3.7/site-packages/ray/worker.py\", line 305, in get_objects\n",
      "    object_ids, self.current_task_id, timeout_ms)\n",
      "  File \"python/ray/_raylet.pyx\", line 729, in ray._raylet.CoreWorker.get_objects\n",
      "  File \"python/ray/_raylet.pyx\", line 132, in ray._raylet.check_status\n",
      "KeyboardInterrupt\n",
      "\n",
      "During handling of the above exception, another exception occurred:\n",
      "\n",
      "Traceback (most recent call last):\n",
      "  File \"/wynton/home/ye/mschmitz1/utils/miniconda3/envs/imagej/lib/python3.7/site-packages/IPython/core/interactiveshell.py\", line 2044, in showtraceback\n",
      "    stb = value._render_traceback_()\n",
      "AttributeError: 'KeyboardInterrupt' object has no attribute '_render_traceback_'\n",
      "\n",
      "During handling of the above exception, another exception occurred:\n",
      "\n",
      "Traceback (most recent call last):\n",
      "  File \"/wynton/home/ye/mschmitz1/utils/miniconda3/envs/imagej/lib/python3.7/site-packages/IPython/core/ultratb.py\", line 1169, in get_records\n",
      "    return _fixed_getinnerframes(etb, number_of_lines_of_context, tb_offset)\n",
      "  File \"/wynton/home/ye/mschmitz1/utils/miniconda3/envs/imagej/lib/python3.7/site-packages/IPython/core/ultratb.py\", line 316, in wrapped\n",
      "    return f(*args, **kwargs)\n",
      "  File \"/wynton/home/ye/mschmitz1/utils/miniconda3/envs/imagej/lib/python3.7/site-packages/IPython/core/ultratb.py\", line 350, in _fixed_getinnerframes\n",
      "    records = fix_frame_records_filenames(inspect.getinnerframes(etb, context))\n",
      "  File \"/wynton/home/ye/mschmitz1/utils/miniconda3/envs/imagej/lib/python3.7/inspect.py\", line 1502, in getinnerframes\n",
      "    frameinfo = (tb.tb_frame,) + getframeinfo(tb, context)\n",
      "  File \"/wynton/home/ye/mschmitz1/utils/miniconda3/envs/imagej/lib/python3.7/inspect.py\", line 1460, in getframeinfo\n",
      "    filename = getsourcefile(frame) or getfile(frame)\n",
      "  File \"/wynton/home/ye/mschmitz1/utils/miniconda3/envs/imagej/lib/python3.7/inspect.py\", line 696, in getsourcefile\n",
      "    if getattr(getmodule(object, filename), '__loader__', None) is not None:\n",
      "  File \"/wynton/home/ye/mschmitz1/utils/miniconda3/envs/imagej/lib/python3.7/inspect.py\", line 739, in getmodule\n",
      "    f = getabsfile(module)\n",
      "  File \"/wynton/home/ye/mschmitz1/utils/miniconda3/envs/imagej/lib/python3.7/inspect.py\", line 708, in getabsfile\n",
      "    _filename = getsourcefile(object) or getfile(object)\n",
      "  File \"/wynton/home/ye/mschmitz1/utils/miniconda3/envs/imagej/lib/python3.7/inspect.py\", line 693, in getsourcefile\n",
      "    if os.path.exists(filename):\n",
      "  File \"/wynton/home/ye/mschmitz1/utils/miniconda3/envs/imagej/lib/python3.7/genericpath.py\", line 19, in exists\n",
      "    os.stat(path)\n",
      "KeyboardInterrupt\n",
      "Traceback (most recent call last):\n",
      "  File \"/wynton/home/ye/mschmitz1/utils/miniconda3/envs/imagej/lib/python3.7/site-packages/IPython/core/interactiveshell.py\", line 3343, in run_code\n",
      "    exec(code_obj, self.user_global_ns, self.user_ns)\n",
      "  File \"<ipython-input-3-d3e65946da85>\", line 12, in <module>\n",
      "    df,IF=ImageStitching.ImageJStitchImages(dirname,dirname,'DAPI',str(i),.5,.55,.5,.55)\n",
      "  File \"/wynton/home/ye/mschmitz1/code/macaque-dev-brain/imaging/ImageStitching.py\", line 108, in ImageJStitchImages\n",
      "    metadf=pd.DataFrame(ray.get(l))\n",
      "  File \"/wynton/home/ye/mschmitz1/utils/miniconda3/envs/imagej/lib/python3.7/site-packages/ray/worker.py\", line 1467, in get\n",
      "    values = worker.get_objects(object_ids, timeout=timeout)\n",
      "  File \"/wynton/home/ye/mschmitz1/utils/miniconda3/envs/imagej/lib/python3.7/site-packages/ray/worker.py\", line 305, in get_objects\n",
      "    object_ids, self.current_task_id, timeout_ms)\n",
      "  File \"python/ray/_raylet.pyx\", line 729, in ray._raylet.CoreWorker.get_objects\n",
      "  File \"python/ray/_raylet.pyx\", line 132, in ray._raylet.check_status\n",
      "KeyboardInterrupt\n",
      "\n",
      "During handling of the above exception, another exception occurred:\n",
      "\n",
      "Traceback (most recent call last):\n",
      "  File \"/wynton/home/ye/mschmitz1/utils/miniconda3/envs/imagej/lib/python3.7/site-packages/IPython/core/interactiveshell.py\", line 2044, in showtraceback\n",
      "    stb = value._render_traceback_()\n",
      "AttributeError: 'KeyboardInterrupt' object has no attribute '_render_traceback_'\n",
      "\n",
      "During handling of the above exception, another exception occurred:\n",
      "\n",
      "Traceback (most recent call last):\n",
      "  File \"/wynton/home/ye/mschmitz1/utils/miniconda3/envs/imagej/lib/python3.7/site-packages/IPython/core/interactiveshell.py\", line 3263, in run_ast_nodes\n",
      "    if (await self.run_code(code, result,  async_=asy)):\n",
      "  File \"/wynton/home/ye/mschmitz1/utils/miniconda3/envs/imagej/lib/python3.7/site-packages/IPython/core/interactiveshell.py\", line 3360, in run_code\n",
      "    self.showtraceback(running_compiled_code=True)\n",
      "  File \"/wynton/home/ye/mschmitz1/utils/miniconda3/envs/imagej/lib/python3.7/site-packages/IPython/core/interactiveshell.py\", line 2047, in showtraceback\n",
      "    value, tb, tb_offset=tb_offset)\n",
      "  File \"/wynton/home/ye/mschmitz1/utils/miniconda3/envs/imagej/lib/python3.7/site-packages/IPython/core/ultratb.py\", line 1436, in structured_traceback\n",
      "    self, etype, value, tb, tb_offset, number_of_lines_of_context)\n",
      "  File \"/wynton/home/ye/mschmitz1/utils/miniconda3/envs/imagej/lib/python3.7/site-packages/IPython/core/ultratb.py\", line 1336, in structured_traceback\n",
      "    self, etype, value, tb, tb_offset, number_of_lines_of_context\n",
      "  File \"/wynton/home/ye/mschmitz1/utils/miniconda3/envs/imagej/lib/python3.7/site-packages/IPython/core/ultratb.py\", line 1193, in structured_traceback\n",
      "    tb_offset)\n",
      "  File \"/wynton/home/ye/mschmitz1/utils/miniconda3/envs/imagej/lib/python3.7/site-packages/IPython/core/ultratb.py\", line 1150, in format_exception_as_a_whole\n",
      "    last_unique, recursion_repeat = find_recursion(orig_etype, evalue, records)\n",
      "  File \"/wynton/home/ye/mschmitz1/utils/miniconda3/envs/imagej/lib/python3.7/site-packages/IPython/core/ultratb.py\", line 451, in find_recursion\n",
      "    return len(records), 0\n",
      "TypeError: object of type 'NoneType' has no len()\n",
      "\n",
      "During handling of the above exception, another exception occurred:\n",
      "\n",
      "Traceback (most recent call last):\n",
      "  File \"/wynton/home/ye/mschmitz1/utils/miniconda3/envs/imagej/lib/python3.7/site-packages/IPython/core/interactiveshell.py\", line 2044, in showtraceback\n",
      "    stb = value._render_traceback_()\n",
      "AttributeError: 'TypeError' object has no attribute '_render_traceback_'\n",
      "\n",
      "During handling of the above exception, another exception occurred:\n",
      "\n",
      "Traceback (most recent call last):\n",
      "  File \"/wynton/home/ye/mschmitz1/utils/miniconda3/envs/imagej/lib/python3.7/site-packages/IPython/core/ultratb.py\", line 1169, in get_records\n",
      "    return _fixed_getinnerframes(etb, number_of_lines_of_context, tb_offset)\n",
      "  File \"/wynton/home/ye/mschmitz1/utils/miniconda3/envs/imagej/lib/python3.7/site-packages/IPython/core/ultratb.py\", line 316, in wrapped\n",
      "    return f(*args, **kwargs)\n",
      "  File \"/wynton/home/ye/mschmitz1/utils/miniconda3/envs/imagej/lib/python3.7/site-packages/IPython/core/ultratb.py\", line 350, in _fixed_getinnerframes\n",
      "    records = fix_frame_records_filenames(inspect.getinnerframes(etb, context))\n",
      "  File \"/wynton/home/ye/mschmitz1/utils/miniconda3/envs/imagej/lib/python3.7/inspect.py\", line 1502, in getinnerframes\n",
      "    frameinfo = (tb.tb_frame,) + getframeinfo(tb, context)\n",
      "  File \"/wynton/home/ye/mschmitz1/utils/miniconda3/envs/imagej/lib/python3.7/inspect.py\", line 1464, in getframeinfo\n",
      "    lines, lnum = findsource(frame)\n",
      "  File \"/wynton/home/ye/mschmitz1/utils/miniconda3/envs/imagej/lib/python3.7/site-packages/IPython/core/ultratb.py\", line 170, in findsource\n",
      "    file = getsourcefile(object) or getfile(object)\n",
      "  File \"/wynton/home/ye/mschmitz1/utils/miniconda3/envs/imagej/lib/python3.7/inspect.py\", line 693, in getsourcefile\n",
      "    if os.path.exists(filename):\n",
      "  File \"/wynton/home/ye/mschmitz1/utils/miniconda3/envs/imagej/lib/python3.7/genericpath.py\", line 19, in exists\n",
      "    os.stat(path)\n",
      "KeyboardInterrupt\n",
      "Traceback (most recent call last):\n",
      "  File \"/wynton/home/ye/mschmitz1/utils/miniconda3/envs/imagej/lib/python3.7/site-packages/IPython/core/interactiveshell.py\", line 3343, in run_code\n",
      "    exec(code_obj, self.user_global_ns, self.user_ns)\n",
      "  File \"<ipython-input-3-d3e65946da85>\", line 12, in <module>\n",
      "    df,IF=ImageStitching.ImageJStitchImages(dirname,dirname,'DAPI',str(i),.5,.55,.5,.55)\n",
      "  File \"/wynton/home/ye/mschmitz1/code/macaque-dev-brain/imaging/ImageStitching.py\", line 108, in ImageJStitchImages\n",
      "    metadf=pd.DataFrame(ray.get(l))\n",
      "  File \"/wynton/home/ye/mschmitz1/utils/miniconda3/envs/imagej/lib/python3.7/site-packages/ray/worker.py\", line 1467, in get\n",
      "    values = worker.get_objects(object_ids, timeout=timeout)\n",
      "  File \"/wynton/home/ye/mschmitz1/utils/miniconda3/envs/imagej/lib/python3.7/site-packages/ray/worker.py\", line 305, in get_objects\n",
      "    object_ids, self.current_task_id, timeout_ms)\n",
      "  File \"python/ray/_raylet.pyx\", line 729, in ray._raylet.CoreWorker.get_objects\n",
      "  File \"python/ray/_raylet.pyx\", line 132, in ray._raylet.check_status\n",
      "KeyboardInterrupt\n",
      "\n",
      "During handling of the above exception, another exception occurred:\n",
      "\n",
      "Traceback (most recent call last):\n",
      "  File \"/wynton/home/ye/mschmitz1/utils/miniconda3/envs/imagej/lib/python3.7/site-packages/IPython/core/interactiveshell.py\", line 2044, in showtraceback\n",
      "    stb = value._render_traceback_()\n",
      "AttributeError: 'KeyboardInterrupt' object has no attribute '_render_traceback_'\n",
      "\n",
      "During handling of the above exception, another exception occurred:\n",
      "\n",
      "Traceback (most recent call last):\n",
      "  File \"/wynton/home/ye/mschmitz1/utils/miniconda3/envs/imagej/lib/python3.7/site-packages/IPython/core/interactiveshell.py\", line 3263, in run_ast_nodes\n",
      "    if (await self.run_code(code, result,  async_=asy)):\n",
      "  File \"/wynton/home/ye/mschmitz1/utils/miniconda3/envs/imagej/lib/python3.7/site-packages/IPython/core/interactiveshell.py\", line 3360, in run_code\n",
      "    self.showtraceback(running_compiled_code=True)\n",
      "  File \"/wynton/home/ye/mschmitz1/utils/miniconda3/envs/imagej/lib/python3.7/site-packages/IPython/core/interactiveshell.py\", line 2047, in showtraceback\n",
      "    value, tb, tb_offset=tb_offset)\n",
      "  File \"/wynton/home/ye/mschmitz1/utils/miniconda3/envs/imagej/lib/python3.7/site-packages/IPython/core/ultratb.py\", line 1436, in structured_traceback\n",
      "    self, etype, value, tb, tb_offset, number_of_lines_of_context)\n",
      "  File \"/wynton/home/ye/mschmitz1/utils/miniconda3/envs/imagej/lib/python3.7/site-packages/IPython/core/ultratb.py\", line 1336, in structured_traceback\n",
      "    self, etype, value, tb, tb_offset, number_of_lines_of_context\n",
      "  File \"/wynton/home/ye/mschmitz1/utils/miniconda3/envs/imagej/lib/python3.7/site-packages/IPython/core/ultratb.py\", line 1193, in structured_traceback\n",
      "    tb_offset)\n",
      "  File \"/wynton/home/ye/mschmitz1/utils/miniconda3/envs/imagej/lib/python3.7/site-packages/IPython/core/ultratb.py\", line 1150, in format_exception_as_a_whole\n",
      "    last_unique, recursion_repeat = find_recursion(orig_etype, evalue, records)\n",
      "  File \"/wynton/home/ye/mschmitz1/utils/miniconda3/envs/imagej/lib/python3.7/site-packages/IPython/core/ultratb.py\", line 451, in find_recursion\n",
      "    return len(records), 0\n",
      "TypeError: object of type 'NoneType' has no len()\n",
      "\n",
      "During handling of the above exception, another exception occurred:\n",
      "\n",
      "Traceback (most recent call last):\n",
      "  File \"/wynton/home/ye/mschmitz1/utils/miniconda3/envs/imagej/lib/python3.7/site-packages/IPython/core/interactiveshell.py\", line 2044, in showtraceback\n",
      "    stb = value._render_traceback_()\n",
      "AttributeError: 'TypeError' object has no attribute '_render_traceback_'\n",
      "\n",
      "During handling of the above exception, another exception occurred:\n",
      "\n",
      "Traceback (most recent call last):\n",
      "  File \"/wynton/home/ye/mschmitz1/utils/miniconda3/envs/imagej/lib/python3.7/site-packages/IPython/core/interactiveshell.py\", line 2895, in _run_cell\n",
      "    return runner(coro)\n",
      "  File \"/wynton/home/ye/mschmitz1/utils/miniconda3/envs/imagej/lib/python3.7/site-packages/IPython/core/async_helpers.py\", line 68, in _pseudo_sync_runner\n",
      "    coro.send(None)\n",
      "  File \"/wynton/home/ye/mschmitz1/utils/miniconda3/envs/imagej/lib/python3.7/site-packages/IPython/core/interactiveshell.py\", line 3072, in run_cell_async\n",
      "    interactivity=interactivity, compiler=compiler, result=result)\n",
      "  File \"/wynton/home/ye/mschmitz1/utils/miniconda3/envs/imagej/lib/python3.7/site-packages/IPython/core/interactiveshell.py\", line 3282, in run_ast_nodes\n",
      "    self.showtraceback()\n",
      "  File \"/wynton/home/ye/mschmitz1/utils/miniconda3/envs/imagej/lib/python3.7/site-packages/IPython/core/interactiveshell.py\", line 2047, in showtraceback\n",
      "    value, tb, tb_offset=tb_offset)\n",
      "  File \"/wynton/home/ye/mschmitz1/utils/miniconda3/envs/imagej/lib/python3.7/site-packages/IPython/core/ultratb.py\", line 1436, in structured_traceback\n",
      "    self, etype, value, tb, tb_offset, number_of_lines_of_context)\n",
      "  File \"/wynton/home/ye/mschmitz1/utils/miniconda3/envs/imagej/lib/python3.7/site-packages/IPython/core/ultratb.py\", line 1336, in structured_traceback\n",
      "    self, etype, value, tb, tb_offset, number_of_lines_of_context\n",
      "  File \"/wynton/home/ye/mschmitz1/utils/miniconda3/envs/imagej/lib/python3.7/site-packages/IPython/core/ultratb.py\", line 1193, in structured_traceback\n",
      "    tb_offset)\n",
      "  File \"/wynton/home/ye/mschmitz1/utils/miniconda3/envs/imagej/lib/python3.7/site-packages/IPython/core/ultratb.py\", line 1150, in format_exception_as_a_whole\n",
      "    last_unique, recursion_repeat = find_recursion(orig_etype, evalue, records)\n",
      "  File \"/wynton/home/ye/mschmitz1/utils/miniconda3/envs/imagej/lib/python3.7/site-packages/IPython/core/ultratb.py\", line 451, in find_recursion\n",
      "    return len(records), 0\n",
      "TypeError: object of type 'NoneType' has no len()\n",
      "\n",
      "During handling of the above exception, another exception occurred:\n",
      "\n",
      "Traceback (most recent call last):\n",
      "  File \"/wynton/home/ye/mschmitz1/utils/miniconda3/envs/imagej/lib/python3.7/site-packages/IPython/core/interactiveshell.py\", line 2044, in showtraceback\n",
      "    stb = value._render_traceback_()\n",
      "AttributeError: 'TypeError' object has no attribute '_render_traceback_'\n",
      "\n",
      "During handling of the above exception, another exception occurred:\n",
      "\n",
      "Traceback (most recent call last):\n",
      "  File \"/wynton/home/ye/mschmitz1/utils/miniconda3/envs/imagej/lib/python3.7/site-packages/IPython/core/ultratb.py\", line 1169, in get_records\n",
      "    return _fixed_getinnerframes(etb, number_of_lines_of_context, tb_offset)\n",
      "  File \"/wynton/home/ye/mschmitz1/utils/miniconda3/envs/imagej/lib/python3.7/site-packages/IPython/core/ultratb.py\", line 316, in wrapped\n",
      "    return f(*args, **kwargs)\n",
      "  File \"/wynton/home/ye/mschmitz1/utils/miniconda3/envs/imagej/lib/python3.7/site-packages/IPython/core/ultratb.py\", line 350, in _fixed_getinnerframes\n",
      "    records = fix_frame_records_filenames(inspect.getinnerframes(etb, context))\n",
      "  File \"/wynton/home/ye/mschmitz1/utils/miniconda3/envs/imagej/lib/python3.7/inspect.py\", line 1502, in getinnerframes\n",
      "    frameinfo = (tb.tb_frame,) + getframeinfo(tb, context)\n",
      "  File \"/wynton/home/ye/mschmitz1/utils/miniconda3/envs/imagej/lib/python3.7/inspect.py\", line 1460, in getframeinfo\n",
      "    filename = getsourcefile(frame) or getfile(frame)\n",
      "  File \"/wynton/home/ye/mschmitz1/utils/miniconda3/envs/imagej/lib/python3.7/inspect.py\", line 696, in getsourcefile\n",
      "    if getattr(getmodule(object, filename), '__loader__', None) is not None:\n",
      "  File \"/wynton/home/ye/mschmitz1/utils/miniconda3/envs/imagej/lib/python3.7/inspect.py\", line 739, in getmodule\n",
      "    f = getabsfile(module)\n",
      "  File \"/wynton/home/ye/mschmitz1/utils/miniconda3/envs/imagej/lib/python3.7/inspect.py\", line 708, in getabsfile\n",
      "    _filename = getsourcefile(object) or getfile(object)\n",
      "  File \"/wynton/home/ye/mschmitz1/utils/miniconda3/envs/imagej/lib/python3.7/inspect.py\", line 693, in getsourcefile\n",
      "    if os.path.exists(filename):\n",
      "  File \"/wynton/home/ye/mschmitz1/utils/miniconda3/envs/imagej/lib/python3.7/genericpath.py\", line 19, in exists\n",
      "    os.stat(path)\n",
      "KeyboardInterrupt\n"
     ]
    }
   ],
   "source": [
    "toppath = os.path.expanduser('/wynton/group/ye/mtschmitz/images/MacaqueMotorCortex/')\n",
    "for f in os.listdir(os.path.join(toppath)):\n",
    "    for d in os.listdir(os.path.join(toppath,f)):\n",
    "        dirname=os.path.join(toppath,f,d)\n",
    "        if os.path.isdir(dirname):\n",
    "            numunstitched=np.sum(['_R_p' in x for x in os.listdir(dirname)])\n",
    "            ###LOOP THROUGH image areas\n",
    "            for i in range(4):\n",
    "                i+=1\n",
    "                if numunstitched>10:\n",
    "                    print(dirname)\n",
    "                    df,IF=ImageStitching.ImageJStitchImages(dirname,dirname,'DAPI',str(i),.5,.55,.5,.55)\n",
    "                    #df,IF=ImageStitching.ImageJStitchImages(dirname,dirname,'DAPI',str(i),-1,2,-1,2)\n",
    "                    #callstring=\"conda activate imagej && python ~/code/macaque-dev-brain/imaging/ImageStitching.py \"+dirname+' '+ dirname+' DAPI '+str(i)+' -1 2 -1 2'\n",
    "                    #print(callstring)\n",
    "                    #subprocess.call(callstring, shell=True) "
   ]
  },
  {
   "cell_type": "code",
   "execution_count": 77,
   "metadata": {},
   "outputs": [
    {
     "name": "stdout",
     "output_type": "stream",
     "text": [
      "ref -19033.55816790266\n"
     ]
    }
   ],
   "source": [
    "from collections import defaultdict\n",
    "dirname='/wynton/group/ye/mtschmitz/images/MacaqueMotorCortex/E80-20180214_325_20200706/scan.2020-07-08-20-04-44'\n",
    "protocol='scan.scanprotocol'\n",
    "n_location=1\n",
    "counting=False\n",
    "reference=False\n",
    "shapes=defaultdict(list)\n",
    "with open(os.path.join(dirname,protocol), 'r') as f:\n",
    "    for line in f:\n",
    "        try:\n",
    "            if '<d2p1:ScanLocation>' in line:\n",
    "                counting=~counting\n",
    "            if counting and '<d10p1:_x>' in line:\n",
    "                x=float(line.split('>')[1].split('<')[0])\n",
    "            if counting and '<d10p1:_y>' in line:\n",
    "                y=float(line.split('>')[1].split('<')[0])\n",
    "                shapes[str(n_location)].append((x,y))\n",
    "            if '<d2p1:ReferencePoint ' in line:   \n",
    "                counting=False\n",
    "                reference=True\n",
    "            if reference and '<d10p1:_x>' in line:\n",
    "                xref=float(line.split('>')[1].split('<')[0])\n",
    "            if reference and '<d10p1:_y>' in line:\n",
    "                print('ref',xref)\n",
    "                yref=float(line.split('>')[1].split('<')[0]) \n",
    "                reference=False\n",
    "                shapes[str(n_location)]=[(x+xref,y+yref) for x,y in shapes[str(n_location)]]\n",
    "                n_location+=1\n",
    "                xref=0\n",
    "                yref=0\n",
    "        except:\n",
    "            pass        \n"
   ]
  },
  {
   "cell_type": "code",
   "execution_count": 78,
   "metadata": {},
   "outputs": [
    {
     "data": {
      "text/plain": [
       "defaultdict(list,\n",
       "            {'1': [(-30538.607936930945, -6835.336940032504),\n",
       "              (-28100.605463171167, -8507.110064896351),\n",
       "              (-24431.99221694217, -9668.06362382958),\n",
       "              (-21552.827390787766, -9064.3677731843),\n",
       "              (-18789.75792052668, -8437.452851360356),\n",
       "              (-15724.840524942963, -8367.795637824363),\n",
       "              (-12520.608702287253, -6185.202947029897),\n",
       "              (-10175.48251324214, -5349.316384597973),\n",
       "              (-7551.72747005304, -4792.058676310025),\n",
       "              (-5694.201775759881, -2516.5897008008997),\n",
       "              (-4602.905430362647, 455.45141006816266),\n",
       "              (-5160.163138650598, 3729.3404462598646),\n",
       "              (-7528.508398874379, 5447.551713481042),\n",
       "              (-9571.78666259686, 6237.000133555635),\n",
       "              (-13936.972044185793, 2777.358527934617),\n",
       "              (-15097.925603119023, 5377.894499945045),\n",
       "              (-16816.136870340197, 7653.363475454173),\n",
       "              (-18302.157425774727, 9023.288674995381),\n",
       "              (-20507.96918774786, 9534.108240926),\n",
       "              (-22411.933024398353, 9185.822173246032),\n",
       "              (-23480.010298616922, 7351.515550131533),\n",
       "              (-24640.96385755015, 5168.922859337066),\n",
       "              (-26614.584907736637, 4890.294005193091),\n",
       "              (-29656.28323214169, 6260.2192047343),\n",
       "              (-31513.808926434853, 5679.742425267685),\n",
       "              (-32721.20062772541, 3334.6162362225677),\n",
       "              (-33464.21090544268, 107.1653423881944),\n",
       "              (-33208.801122477365, -2609.465985515557),\n",
       "              (-32280.038275330786, -5163.563815168656)]})"
      ]
     },
     "execution_count": 78,
     "metadata": {},
     "output_type": "execute_result"
    }
   ],
   "source": [
    "shapes"
   ]
  },
  {
   "cell_type": "code",
   "execution_count": 79,
   "metadata": {},
   "outputs": [
    {
     "name": "stdout",
     "output_type": "stream",
     "text": [
      "Path(array([[-33592.46873062,  -7518.87063404],\n",
      "       [-30910.66600949,  -9357.82107139],\n",
      "       [-26875.19143864, -10634.86998621],\n",
      "       [-23708.11012987,  -9970.8045505 ],\n",
      "       [-20668.73371258,  -9281.1981365 ],\n",
      "       [-17297.32457744,  -9204.57520161],\n",
      "       [-13772.66957252,  -6803.72324173],\n",
      "       [-11193.03076457,  -5884.24802306],\n",
      "       [ -8306.90021706,  -5271.26454394],\n",
      "       [ -6263.62195334,  -2768.24867088],\n",
      "       [ -5063.1959734 ,    500.99655107],\n",
      "       [ -5676.17945252,   4102.27449089],\n",
      "       [ -8281.35923876,   5992.30688483],\n",
      "       [-10528.96532886,   6860.70014691],\n",
      "       [-15330.6692486 ,   3055.09438073],\n",
      "       [-16607.71816343,   5915.68394994],\n",
      "       [-18497.75055737,   8418.699823  ],\n",
      "       [-20132.37316835,   9925.61754249],\n",
      "       [-22558.76610652,  10487.51906502],\n",
      "       [-24653.12632684,  10104.40439057],\n",
      "       [-25828.01132848,   8086.66710514],\n",
      "       [-27105.06024331,   5685.81514527],\n",
      "       [-29276.04339851,   5379.32340571],\n",
      "       [-32621.91155536,   6886.24112521],\n",
      "       [-34665.18981908,   6247.71666779],\n",
      "       [-35993.3206905 ,   3668.07785984],\n",
      "       [-36810.63199599,    117.88187663],\n",
      "       [-36529.68123473,  -2870.41258407],\n",
      "       [-35508.04210286,  -5679.92019669]]), None)\n",
      "[ True  True  True  True  True False  True  True False False False False\n",
      " False  True  True False False False  True  True  True  True  True False\n",
      "  True  True  True  True  True]\n"
     ]
    },
    {
     "data": {
      "text/plain": [
       "[(-30538.607936930945, -6835.336940032504),\n",
       " (-28100.605463171167, -8507.110064896351),\n",
       " (-24431.99221694217, -9668.06362382958),\n",
       " (-21552.827390787766, -9064.3677731843),\n",
       " (-18789.75792052668, -8437.452851360356),\n",
       " (-15724.840524942963, -8367.795637824363),\n",
       " (-12520.608702287253, -6185.202947029897),\n",
       " (-10175.48251324214, -5349.316384597973),\n",
       " (-7551.72747005304, -4792.058676310025),\n",
       " (-5694.201775759881, -2516.5897008008997),\n",
       " (-4602.905430362647, 455.45141006816266),\n",
       " (-5160.163138650598, 3729.3404462598646),\n",
       " (-7528.508398874379, 5447.551713481042),\n",
       " (-9571.78666259686, 6237.000133555635),\n",
       " (-13936.972044185793, 2777.358527934617),\n",
       " (-15097.925603119023, 5377.894499945045),\n",
       " (-16816.136870340197, 7653.363475454173),\n",
       " (-18302.157425774727, 9023.288674995381),\n",
       " (-20507.96918774786, 9534.108240926),\n",
       " (-22411.933024398353, 9185.822173246032),\n",
       " (-23480.010298616922, 7351.515550131533),\n",
       " (-24640.96385755015, 5168.922859337066),\n",
       " (-26614.584907736637, 4890.294005193091),\n",
       " (-29656.28323214169, 6260.2192047343),\n",
       " (-31513.808926434853, 5679.742425267685),\n",
       " (-32721.20062772541, 3334.6162362225677),\n",
       " (-33464.21090544268, 107.1653423881944),\n",
       " (-33208.801122477365, -2609.465985515557),\n",
       " (-32280.038275330786, -5163.563815168656)]"
      ]
     },
     "execution_count": 79,
     "metadata": {},
     "output_type": "execute_result"
    }
   ],
   "source": [
    "import matplotlib\n",
    "import matplotlib.path as mpltPath\n",
    "\n",
    "outline = mpltPath.Path(shapes['1'])\n",
    "outline=outline.transformed(matplotlib.transforms.Affine2D().scale(1.1))\n",
    "print(outline)\n",
    "inside = outline.contains_points(shapes['1'])\n",
    "print(inside)\n",
    "shapes['1']"
   ]
  },
  {
   "cell_type": "code",
   "execution_count": 30,
   "metadata": {},
   "outputs": [
    {
     "data": {
      "text/plain": [
       "'Image1HAHA'"
      ]
     },
     "execution_count": 30,
     "metadata": {},
     "output_type": "execute_result"
    }
   ],
   "source": [
    "import re\n",
    "re.sub('.TIF','HAHA','Image1.TIF')"
   ]
  },
  {
   "cell_type": "code",
   "execution_count": 80,
   "metadata": {},
   "outputs": [
    {
     "name": "stdout",
     "output_type": "stream",
     "text": [
      "[True, True, True, True, True, True, True, True, True, True, True, True, True, False, True, True, True, True, True, True, True, True, True, True, True, True, True, True, True]\n"
     ]
    }
   ],
   "source": [
    "import shapely\n",
    "from shapely.geometry import Point\n",
    "from shapely.geometry.polygon import Polygon\n",
    "polygon = Polygon(shapes['1'])\n",
    "polygon=shapely.affinity.scale(polygon,xfact=1.1,yfact=1.1)\n",
    "print([polygon.contains(Point(x,y)) for x,y in shapes['1']])\n",
    "contains=[polygon.contains(Point(x,y)) for x,y in shapes['1']]"
   ]
  },
  {
   "cell_type": "code",
   "execution_count": 81,
   "metadata": {},
   "outputs": [
    {
     "data": {
      "text/plain": [
       "<matplotlib.collections.PathCollection at 0x7f9a9f38ebd0>"
      ]
     },
     "execution_count": 81,
     "metadata": {},
     "output_type": "execute_result"
    },
    {
     "data": {
      "image/png": "[encoded data removed]",
      "text/plain": [
       "<Figure size 432x288 with 1 Axes>"
      ]
     },
     "metadata": {
      "needs_background": "light"
     },
     "output_type": "display_data"
    }
   ],
   "source": [
    "matplotlib.pyplot.scatter([x[0] for x in shapes['1']], [x[1] for x in shapes['1']])\n",
    "outside=np.array(shapes['1'])[~np.array(contains)]\n",
    "matplotlib.pyplot.scatter([x[0] for x in outside], [x[1] for x in outside])\n"
   ]
  },
  {
   "cell_type": "code",
   "execution_count": 82,
   "metadata": {},
   "outputs": [
    {
     "data": {
      "image/png": "[encoded data removed]",
      "text/plain": [
       "<Figure size 432x288 with 1 Axes>"
      ]
     },
     "metadata": {
      "needs_background": "light"
     },
     "output_type": "display_data"
    }
   ],
   "source": [
    "matplotlib.pyplot.scatter([x[0] for x in shapes['1']], [x[1] for x in shapes['1']])\n",
    "matplotlib.pyplot.scatter(polygon.exterior.coords.xy[0],polygon.exterior.coords.xy[1])\n",
    "buffgon = Polygon(polygon.buffer(4500.0).exterior)\n",
    "matplotlib.pyplot.scatter(buffgon.exterior.coords.xy[0],buffgon.exterior.coords.xy[1])\n",
    "outside=np.array(shapes['1'])[~np.array(contains)]\n",
    "matplotlib.pyplot.scatter([x[0] for x in outside], [x[1] for x in outside])\n",
    "matplotlib.pyplot.savefig('/wynton/scratch/mtschmitz/BufferPolygon.png')"
   ]
  },
  {
   "cell_type": "code",
   "execution_count": 74,
   "metadata": {},
   "outputs": [
    {
     "data": {
      "image/svg+xml": [
       "<svg xmlns=\"http://www.w3.org/2000/svg\" xmlns:xlink=\"http://www.w3.org/1999/xlink\" width=\"300\" height=\"300\" viewBox=\"-22003.083099407653 -16690.931267878066 44003.0138663102 33380.643448987816\" preserveAspectRatio=\"xMinYMin meet\"><g transform=\"matrix(1,0,0,-1,0,-1.2190867683202669)\"><path fill-rule=\"evenodd\" fill=\"#66cc99\" stroke=\"#555555\" stroke-width=\"293.3534257754013\" opacity=\"0.6\" d=\"M -15771.947972784825,-10691.43811807807 L -17687.52134502465,-8852.487680727836 L -17970.826115458443,-8554.47361581267 L -18225.745678136722,-8231.84380875554 L -18450.15162496166,-7887.292002973873 L -18642.170316149004,-7523.694975933626 L -18800.198523868905,-7144.0885199787235 L -19821.83765573014,-4334.580907360314 L -19937.14023071368,-3969.947848244038 L -20021.066359924593,-3596.841487491503 L -20073.009902119065,-3217.9565181107946 L -20353.960663380905,-229.6620574166682 L -20373.34184509987,249.74113433568664 L -20341.57106965849,728.4828896641958 L -20259.009508880088,1201.1208474596212 L -19441.698203391097,4751.316830677432 L -19342.819798513232,5111.666747874222 L -19214.385463693154,5462.570756706052 L -19057.280786978496,5801.609283026155 L -17729.149915558883,8381.248090975783 L -17505.828268847144,8766.815937241787 L -17245.470729132834,9128.408350710535 L -16950.62989473207,9462.480205756878 L -16624.196445201283,9765.756193912346 L -16269.370800526442,10035.26293565609 L -15889.631743554046,10268.35813203293 L -15488.702313295971,10462.756470290184 L -15070.513303497177,10616.552029549053 L -13027.235039774696,11255.07648696233 L -12575.315887760233,11370.963320338466 L -12113.826993097331,11439.437243916967 L -11647.728750144086,11459.762253715668 L -11182.031097647454,11431.719882800482 L -10721.739668537577,11355.611549515561 L -10271.801986003946,11232.25531763535 L -9837.054284174279,11062.97710326255 L -8705.087546839986,10553.160023089089 L -7605.001560436808,12442.438130172808 L -7370.464686425528,12804.187199377528 L -7102.38629916494,13141.8318537484 L -6803.227026419905,13452.272933298329 L -6475.7327800117955,13732.660973184216 L -6122.909551746887,13980.422358267107 L -5747.995822132427,14193.282945713536 L -5354.432835134199,14369.288938811773 L -4945.833011816529,14506.824820407208 L -4525.946792788404,14604.62818135012 L -2431.5865724728637,14987.742855798086 L -1976.0985980269652,15047.229460176579 L -1516.9193236759284,15059.970926801961 L -1058.8334643731628,15025.834487735225 L -606.6143415279337,14945.175849646032 L 1819.778596642515,14383.274327122352 L 2267.025014793055,14255.011505210801 L 2698.636883921705,14081.253327099737 L 3110.000098157464,13863.857338160597 L 3496.717017959627,13605.147589654805 L 3854.653482667422,13307.889793683553 L 5489.276093645405,11800.972074188223 L 5773.197078847329,11514.662432507917 L 6030.349587508031,11204.087282106851 L 6973.840300826753,9954.599580684757 L 7612.863878250293,10461.059756408733 L 7957.897942563583,10708.928760186169 L 8324.769224018166,10923.155302458683 L 8710.207811590311,11101.82998947549 L 9110.77830450001,11243.360299940234 L 9522.91043181912,11346.48477909814 L 9942.930874172493,11410.284282038556 L 10367.09600390631,11434.190166001692 L 10791.625251911706,11417.989358671846 L 11212.734803706267,11361.826257283581 L 11626.671324441459,11266.201441614165 L 12029.74541224611,11131.967212333351 L 14277.35150234084,10263.573950251299 L 14633.163764636207,10108.14297671432 L 14974.252737208117,9922.618136533176 L 15298.079014280627,9708.380661259222 L 17903.258800526786,7818.348267315927 L 18242.993297948145,7545.8361000022 L 18554.792880300356,7241.758099289955 L 18835.736910732056,6908.962573723639 L 19083.193777352495,6550.5668298390865 L 19294.8455436259,6169.927972251588 L 19468.70966055855,5770.6114575475285 L 19603.157537299838,5356.3576965363245 L 19696.929796205844,4931.047017700449 L 20309.91327532259,1329.7690778895762 L 20364.361625552312,864.7063712247452 L 20370.18951259476,396.50344544813527 L 20327.3338375733,-69.77043875685922 L 20236.258601408237,-529.0669065536788 L 20097.94988105147,-976.4131280046163 L 18897.523901114513,-4245.658349960585 L 18699.902106611473,-4703.655414142205 L 18452.804571766,-5136.966494931599 L 18159.2674319984,-5540.267414889193 L 16115.989168275926,-8043.283287949231 L 15824.95358493965,-8366.557300887222 L 15504.06577798647,-8660.221758317293 L 15156.323993116424,-8921.53277849117 L 14784.977388722618,-9148.048777074293 L 14393.495677071212,-9337.653280320932 L 13985.536704715327,-9488.574700547642 L 13564.912275058365,-9599.402889131034 L 10972.193336960623,-10150.068858284534 L 9219.725626091782,-10774.710814633823 L 6172.932336835518,-12850.062765286639 L 5805.272089910228,-13075.493321855667 L 5417.720395871641,-13264.693420830296 L 5013.836854695958,-13415.925289732251 L 4597.331071748534,-13527.799888169699 L 4172.02858565524,-13599.289665949822 L 3741.8357313454912,-13629.738000962076 L 822.7021806275386,-13696.081945296575 L -1775.4951778210475,-14285.588908978189 L -1847.7293458358172,-14301.355363670635 L -5014.8106546056615,-14965.420799380441 L -5470.8983756948965,-15036.857247181564 L -5931.904982895579,-15061.19001357028 L -6392.978656554289,-15038.1630106894 L -6849.266871183117,-14968.01858401379 L -7295.967465396991,-14851.494961808741 L -11331.44203624889,-13574.44604698219 L -11745.516825106297,-13420.671869907792 L -12142.521038237745,-13227.043145132531 L -12518.62962477723,-12995.425444095921 L -15200.432345912988,-11156.475006745688 L -15495.7240490978,-10935.673411352564 L -15771.947972784825,-10691.43811807807 z\" /></g></svg>"
      ],
      "text/plain": [
       "<shapely.geometry.polygon.Polygon at 0x7f9a9f3b9fd0>"
      ]
     },
     "execution_count": 74,
     "metadata": {},
     "output_type": "execute_result"
    }
   ],
   "source": [
    "buffgon"
   ]
  },
  {
   "cell_type": "code",
   "execution_count": 75,
   "metadata": {},
   "outputs": [
    {
     "data": {
      "image/svg+xml": [
       "<svg xmlns=\"http://www.w3.org/2000/svg\" xmlns:xlink=\"http://www.w3.org/1999/xlink\" width=\"300\" height=\"300\" viewBox=\"-17143.615452197537 -11831.091966519092 34287.23090439507 23662.18393303818\" preserveAspectRatio=\"xMinYMin meet\"><g transform=\"matrix(1,0,0,-1,0,-3.637978807091713e-12)\"><path fill-rule=\"evenodd\" fill=\"#66cc99\" stroke=\"#555555\" stroke-width=\"228.58153936263383\" opacity=\"0.6\" d=\"M -12655.554745931113,-7445.195173438788 L -9973.752024795356,-9284.14561078902 L -5938.277453943458,-10561.19452561557 L -2771.1961451736133,-9897.129089905764 L 268.1802721135788,-9207.522675899427 L 3639.5894072556684,-9130.899741009835 L 7164.24441217695,-6730.047781135921 L 9743.883220126576,-5810.572562460805 L 12630.013767634586,-5197.589083344061 L 14673.292031357061,-2694.573210284023 L 15873.718011294017,574.6720116719459 L 15260.734532177272,4175.9499514828185 L 12655.554745931113,6065.982345426113 L 10407.948655836382,6934.3756075081665 L 5606.244736088555,3128.769841325046 L 4329.195821262003,5989.359410536516 L 2439.163427318712,8492.375283596557 L 804.5408163407284,9999.293003091887 L -1621.85212182972,10561.194525615567 L -3716.2123421452607,10178.079851167602 L -4891.0973437856865,8160.342565741654 L -6168.146258612236,5759.49060586774 L -8339.12941381737,5452.998866309367 L -11684.997570662932,6959.916585804697 L -13728.275834385413,6321.392128391421 L -15056.406705805026,3741.7533204417914 L -15873.718011294017,191.55733722398074 L -15592.767250032175,-2796.737123470146 L -14571.128118170936,-5606.244736088555 L -12655.554745931113,-7445.195173438788 z\" /></g></svg>"
      ],
      "text/plain": [
       "<shapely.geometry.polygon.Polygon at 0x7f9aa0199510>"
      ]
     },
     "execution_count": 75,
     "metadata": {},
     "output_type": "execute_result"
    }
   ],
   "source": [
    "polygon"
   ]
  },
  {
   "cell_type": "code",
   "execution_count": null,
   "metadata": {},
   "outputs": [],
   "source": []
  }
 ],
 "metadata": {
  "kernelspec": {
   "display_name": "imagej",
   "language": "python",
   "name": "imagej"
  },
  "language_info": {
   "codemirror_mode": {
    "name": "ipython",
    "version": 3
   },
   "file_extension": ".py",
   "mimetype": "text/x-python",
   "name": "python",
   "nbconvert_exporter": "python",
   "pygments_lexer": "ipython3",
   "version": "3.7.8"
  }
 },
 "nbformat": 4,
 "nbformat_minor": 4
}
